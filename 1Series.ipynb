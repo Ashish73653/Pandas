{
 "cells": [
  {
   "cell_type": "markdown",
   "id": "c4868ab6-1670-48f8-b306-6621974e17ef",
   "metadata": {},
   "source": [
    "## Series"
   ]
  },
  {
   "cell_type": "code",
   "execution_count": 4,
   "id": "c7fae96c-d223-4345-96a7-1537f20af22b",
   "metadata": {},
   "outputs": [
    {
     "name": "stdout",
     "output_type": "stream",
     "text": [
      "0    3\n",
      "1    4\n",
      "2    5\n",
      "3    6\n",
      "4    7\n",
      "5    8\n",
      "dtype: int64\n",
      "<class 'pandas.core.series.Series'>\n",
      "8\n"
     ]
    }
   ],
   "source": [
    "import pandas as pd\n",
    "\n",
    "x = [3,4,5,6,7,8]\n",
    "\n",
    "var = pd.Series(x)\n",
    "\n",
    "print(var)\n",
    "print(type(var))\n",
    "\n",
    "print(var[5])"
   ]
  },
  {
   "cell_type": "code",
   "execution_count": 7,
   "id": "aebfc941-bd40-4bd8-85f1-bf2bca8cba17",
   "metadata": {},
   "outputs": [
    {
     "name": "stdout",
     "output_type": "stream",
     "text": [
      "a    2.0\n",
      "b    3.0\n",
      "c    4.0\n",
      "d    5.0\n",
      "dtype: float64\n"
     ]
    }
   ],
   "source": [
    "### Change Index values, datatype, name for the list\n",
    "\n",
    "y = [2,3,4,5]\n",
    "var = pd.Series(y,index=[\"a\",\"b\",\"c\",\"d\"],dtype=\"float\",name=\"python\")\n",
    "print(var)"
   ]
  },
  {
   "cell_type": "code",
   "execution_count": 9,
   "id": "4df3090f-ec5d-44f1-bbd1-3a8479f55346",
   "metadata": {},
   "outputs": [
    {
     "name": "stdout",
     "output_type": "stream",
     "text": [
      "name    [C++, Java, Python, C#]\n",
      "por            [20, 40, 30, 10]\n",
      "rank               [3, 1, 2, 4]\n",
      "dtype: object\n"
     ]
    }
   ],
   "source": [
    "dic = {\n",
    "    \"name\":['C++','Java','Python','C#'],\n",
    "    \"por\":[20,40,30,10],\n",
    "    \"rank\":[3,1,2,4]\n",
    "}\n",
    "var = pd.Series(dic)\n",
    "print(var)"
   ]
  },
  {
   "cell_type": "code",
   "execution_count": 10,
   "id": "3e5cc2bc-9f8a-48a2-999d-c56e72942ea4",
   "metadata": {},
   "outputs": [
    {
     "name": "stdout",
     "output_type": "stream",
     "text": [
      "1    12\n",
      "2    12\n",
      "3    12\n",
      "4    12\n",
      "5    12\n",
      "6    12\n",
      "7    12\n",
      "dtype: int64\n",
      "<class 'pandas.core.series.Series'>\n"
     ]
    }
   ],
   "source": [
    "s = pd.Series(12,index=[1,2,3,4,5,6,7])\n",
    "\n",
    "print(s)\n",
    "print(type(s))"
   ]
  },
  {
   "cell_type": "code",
   "execution_count": 11,
   "id": "8abfc4bf-a887-48f5-b047-47bee13e3ead",
   "metadata": {},
   "outputs": [
    {
     "name": "stdout",
     "output_type": "stream",
     "text": [
      "1    24.0\n",
      "2    24.0\n",
      "3    24.0\n",
      "4    24.0\n",
      "5     NaN\n",
      "6     NaN\n",
      "dtype: float64\n"
     ]
    }
   ],
   "source": [
    "### Addition works with NaN\n",
    "s1 = pd.Series(12,index=[1,2,3,4,5,6])\n",
    "s2 = pd.Series(12,index=[1,2,3,4])\n",
    "print(s1+s2)"
   ]
  },
  {
   "cell_type": "code",
   "execution_count": null,
   "id": "2acfd5d2-d450-45f8-a0bf-1505a8d8d314",
   "metadata": {},
   "outputs": [],
   "source": []
  }
 ],
 "metadata": {
  "kernelspec": {
   "display_name": "Python 3 (ipykernel)",
   "language": "python",
   "name": "python3"
  },
  "language_info": {
   "codemirror_mode": {
    "name": "ipython",
    "version": 3
   },
   "file_extension": ".py",
   "mimetype": "text/x-python",
   "name": "python",
   "nbconvert_exporter": "python",
   "pygments_lexer": "ipython3",
   "version": "3.12.2"
  }
 },
 "nbformat": 4,
 "nbformat_minor": 5
}
