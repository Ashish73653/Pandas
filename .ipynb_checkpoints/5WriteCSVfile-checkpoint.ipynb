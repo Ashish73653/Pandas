{
 "cells": [
  {
   "cell_type": "markdown",
   "id": "930ea742-d062-41be-9e3f-9fdedf75e497",
   "metadata": {},
   "source": [
    "## Write CSV (comma separated value)"
   ]
  },
  {
   "cell_type": "code",
   "execution_count": 2,
   "id": "4aaec214-b077-4790-a2b8-2fd09e4930bf",
   "metadata": {},
   "outputs": [
    {
     "name": "stdout",
     "output_type": "stream",
     "text": [
      "       Name  Eng  Math  Sci\n",
      "0    Ashish   89    78   81\n",
      "1     Karan   90    87   89\n",
      "2    Tushar   87    94   93\n",
      "3  Uttkarsh   83    88   91\n"
     ]
    },
    {
     "name": "stderr",
     "output_type": "stream",
     "text": [
      "<>:11: SyntaxWarning: invalid escape sequence '\\J'\n",
      "<>:11: SyntaxWarning: invalid escape sequence '\\J'\n",
      "C:\\Users\\admin\\AppData\\Local\\Temp\\ipykernel_10228\\1889888040.py:11: SyntaxWarning: invalid escape sequence '\\J'\n",
      "  d.to_csv(\"F:\\Jupyter Noteebook\\Pandas\\CSV file\\TestFile1.csv\",index = False)\n"
     ]
    }
   ],
   "source": [
    "import pandas as pd\n",
    "\n",
    "dic={\n",
    "    \"Name\":[\"Ashish\",\"Karan\",\"Tushar\",\"Uttkarsh\"],\n",
    "    \"Eng\":[89,90,87,83],\n",
    "    \"Math\":[78,87,94,88],\n",
    "    \"Sci\":[81,89,93,91]\n",
    "}\n",
    "d = pd.DataFrame(dic)\n",
    "print(d)\n",
    "d.to_csv(\"F:\\Jupyter Noteebook\\Pandas\\CSV file\\TestFile1.csv\",index = False)"
   ]
  },
  {
   "cell_type": "code",
   "execution_count": 4,
   "id": "2af013f4-80f8-4cb9-ae71-58c8e2306fa4",
   "metadata": {},
   "outputs": [
    {
     "name": "stderr",
     "output_type": "stream",
     "text": [
      "<>:1: SyntaxWarning: invalid escape sequence '\\J'\n",
      "<>:1: SyntaxWarning: invalid escape sequence '\\J'\n",
      "C:\\Users\\admin\\AppData\\Local\\Temp\\ipykernel_10228\\2443453031.py:1: SyntaxWarning: invalid escape sequence '\\J'\n",
      "  d.to_csv('F:\\Jupyter Noteebook\\Pandas\\CSV file\\TestFile2.csv', index = False, header = [\"Student Name\",\"English\",\"Math\",\"Science\"])\n"
     ]
    }
   ],
   "source": [
    "d.to_csv('F:\\Jupyter Noteebook\\Pandas\\CSV file\\TestFile2.csv', index = False, header = [\"Student Name\",\"English\",\"Math\",\"Science\"])"
   ]
  },
  {
   "cell_type": "code",
   "execution_count": null,
   "id": "6323356e-c491-4bf3-baa7-ac52a3019492",
   "metadata": {},
   "outputs": [],
   "source": []
  }
 ],
 "metadata": {
  "kernelspec": {
   "display_name": "Python 3 (ipykernel)",
   "language": "python",
   "name": "python3"
  },
  "language_info": {
   "codemirror_mode": {
    "name": "ipython",
    "version": 3
   },
   "file_extension": ".py",
   "mimetype": "text/x-python",
   "name": "python",
   "nbconvert_exporter": "python",
   "pygments_lexer": "ipython3",
   "version": "3.12.2"
  }
 },
 "nbformat": 4,
 "nbformat_minor": 5
}
