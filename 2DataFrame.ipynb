{
 "cells": [
  {
   "cell_type": "code",
   "execution_count": 27,
   "id": "ac493839-3e6d-4df2-8cba-68141f6b7884",
   "metadata": {},
   "outputs": [
    {
     "data": {
      "text/html": [
       "<div>\n",
       "<style scoped>\n",
       "    .dataframe tbody tr th:only-of-type {\n",
       "        vertical-align: middle;\n",
       "    }\n",
       "\n",
       "    .dataframe tbody tr th {\n",
       "        vertical-align: top;\n",
       "    }\n",
       "\n",
       "    .dataframe thead th {\n",
       "        text-align: right;\n",
       "    }\n",
       "</style>\n",
       "<table border=\"1\" class=\"dataframe\">\n",
       "  <thead>\n",
       "    <tr style=\"text-align: right;\">\n",
       "      <th></th>\n",
       "      <th>0</th>\n",
       "    </tr>\n",
       "  </thead>\n",
       "  <tbody>\n",
       "    <tr>\n",
       "      <th>0</th>\n",
       "      <td>1</td>\n",
       "    </tr>\n",
       "    <tr>\n",
       "      <th>1</th>\n",
       "      <td>2</td>\n",
       "    </tr>\n",
       "    <tr>\n",
       "      <th>2</th>\n",
       "      <td>3</td>\n",
       "    </tr>\n",
       "    <tr>\n",
       "      <th>3</th>\n",
       "      <td>4</td>\n",
       "    </tr>\n",
       "    <tr>\n",
       "      <th>4</th>\n",
       "      <td>5</td>\n",
       "    </tr>\n",
       "    <tr>\n",
       "      <th>5</th>\n",
       "      <td>6</td>\n",
       "    </tr>\n",
       "  </tbody>\n",
       "</table>\n",
       "</div>"
      ],
      "text/plain": [
       "   0\n",
       "0  1\n",
       "1  2\n",
       "2  3\n",
       "3  4\n",
       "4  5\n",
       "5  6"
      ]
     },
     "execution_count": 27,
     "metadata": {},
     "output_type": "execute_result"
    }
   ],
   "source": [
    "import pandas as pd\n",
    "l=[1,2,3,4,5,6]\n",
    "var = pd.DataFrame(l)\n",
    "var"
   ]
  },
  {
   "cell_type": "code",
   "execution_count": 6,
   "id": "53a6fa74-ca82-49ce-a780-a36d0e16ac2c",
   "metadata": {},
   "outputs": [
    {
     "name": "stdout",
     "output_type": "stream",
     "text": [
      "   calories  duration  protien  carbs\n",
      "0       420        50        1     32\n",
      "1       380        40        3     11\n",
      "2       390        45        1     34\n"
     ]
    }
   ],
   "source": [
    "data = {\n",
    "    \"calories\": [420, 380, 390],\n",
    "    \"duration\": [50, 40, 45],\n",
    "    \"protien\": [1,3,1],\n",
    "    \"carbs\": [32,11,34]\n",
    "}\n",
    "var1 = pd.DataFrame(data)\n",
    "print(var1)"
   ]
  },
  {
   "cell_type": "code",
   "execution_count": 8,
   "id": "6c6e9038-c5cf-4c5e-8157-7162c8c4ef5b",
   "metadata": {},
   "outputs": [
    {
     "name": "stdout",
     "output_type": "stream",
     "text": [
      "   calories  protien\n",
      "0       420        1\n",
      "1       380        3\n",
      "2       390        1\n"
     ]
    }
   ],
   "source": [
    "## to select certain column\n",
    "var2 = pd.DataFrame(data, columns = ['calories','protien'])\n",
    "print(var2)"
   ]
  },
  {
   "cell_type": "code",
   "execution_count": 9,
   "id": "0030d44b-4f0b-4aa9-9a2d-7844df715ee0",
   "metadata": {},
   "outputs": [
    {
     "name": "stdout",
     "output_type": "stream",
     "text": [
      "   calories  duration  protien  carbs\n",
      "a       420        50        1     32\n",
      "b       380        40        3     11\n",
      "c       390        45        1     34\n"
     ]
    }
   ],
   "source": [
    "### to give different value to index\n",
    "var3 = pd.DataFrame(data, index=['a','b','c'])\n",
    "print(var3)"
   ]
  },
  {
   "cell_type": "code",
   "execution_count": 22,
   "id": "e1027262-dcf1-4c0c-be98-3a564289cc33",
   "metadata": {},
   "outputs": [
    {
     "name": "stdout",
     "output_type": "stream",
     "text": [
      "calories    380\n",
      "duration     40\n",
      "protien       3\n",
      "carbs        11\n",
      "Name: 1, dtype: int64\n",
      "\n",
      "---------------------------------------\n",
      "\n",
      "   calories  duration  protien  carbs\n",
      "0       420        50        1     32\n",
      "1       380        40        3     11\n"
     ]
    }
   ],
   "source": [
    "### refer to row index\n",
    "var4 = pd.DataFrame(data).loc[1]\n",
    "print(var4)\n",
    "print()\n",
    "print(\"---------------------------------------\")\n",
    "print()\n",
    "print(pd.DataFrame(data).loc[[0,1]])"
   ]
  },
  {
   "cell_type": "code",
   "execution_count": 21,
   "id": "8c558270-576f-4d50-83a8-71874f906f05",
   "metadata": {},
   "outputs": [
    {
     "name": "stdout",
     "output_type": "stream",
     "text": [
      "40\n"
     ]
    }
   ],
   "source": [
    "### access particular cell\n",
    "print(var3['duration']['b'])"
   ]
  },
  {
   "cell_type": "code",
   "execution_count": 19,
   "id": "c7e0d374-2bea-4a5e-9fc3-7e9dc111e861",
   "metadata": {},
   "outputs": [
    {
     "name": "stdout",
     "output_type": "stream",
     "text": [
      "    a   b   c   d   e\n",
      "a   1   2   3   4   5\n",
      "b  11  12  13  14  15\n",
      "<class 'pandas.core.frame.DataFrame'>\n"
     ]
    }
   ],
   "source": [
    "list_1 = [[1,2,3,4,5],[11,12,13,14,15]]\n",
    "var5 = pd.DataFrame(list_1,columns=['a','b','c','d','e'],index=['a','b'])\n",
    "print(var5)\n",
    "print(type(var5))"
   ]
  },
  {
   "cell_type": "code",
   "execution_count": 20,
   "id": "b10465d2-bd4b-49c3-846e-52be93cabf41",
   "metadata": {},
   "outputs": [
    {
     "name": "stdout",
     "output_type": "stream",
     "text": [
      "<class 'pandas.core.frame.DataFrame'>\n",
      "   s  r\n",
      "0  1  1\n",
      "1  2  2\n",
      "2  3  3\n",
      "3  4  4\n"
     ]
    }
   ],
   "source": [
    "sr = {\"s\":pd.Series([1,2,3,4]),\"r\":pd.Series([1,2,3,4])}\n",
    "var6 = pd.DataFrame(sr)\n",
    "print(type(var6))\n",
    "print(var6)"
   ]
  },
  {
   "cell_type": "code",
   "execution_count": null,
   "id": "1cf18207-c65a-4b1a-a662-6097a46c85d1",
   "metadata": {},
   "outputs": [],
   "source": []
  }
 ],
 "metadata": {
  "kernelspec": {
   "display_name": "Python 3 (ipykernel)",
   "language": "python",
   "name": "python3"
  },
  "language_info": {
   "codemirror_mode": {
    "name": "ipython",
    "version": 3
   },
   "file_extension": ".py",
   "mimetype": "text/x-python",
   "name": "python",
   "nbconvert_exporter": "python",
   "pygments_lexer": "ipython3",
   "version": "3.12.2"
  }
 },
 "nbformat": 4,
 "nbformat_minor": 5
}
